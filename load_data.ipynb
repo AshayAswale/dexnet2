{
 "metadata": {
  "orig_nbformat": 2,
  "kernelspec": {
   "name": "python3",
   "display_name": "Python 3",
   "language": "python"
  }
 },
 "nbformat": 4,
 "nbformat_minor": 2,
 "cells": [
  {
   "cell_type": "code",
   "execution_count": 1,
   "metadata": {},
   "outputs": [
    {
     "output_type": "stream",
     "name": "stdout",
     "text": [
      "/home/firefly/dexnet/dexnet_2/dexnet_2_tensor/tensors/\n"
     ]
    }
   ],
   "source": [
    "import numpy as np\n",
    "import os\n",
    "import matplotlib.pyplot as plt\n",
    "import os\n",
    "import time\n",
    "import glob\n",
    "import fnmatch\n",
    "DATA = os.getenv('DEXNET_DATA')\n",
    "print(DATA)"
   ]
  },
  {
   "cell_type": "code",
   "execution_count": 2,
   "metadata": {
    "tags": []
   },
   "outputs": [],
   "source": [
    "# put same data files in one list\n",
    "\n",
    "aligned_imgs_files = []\n",
    "for filename in os.listdir(DATA):\n",
    "    if fnmatch.fnmatch(filename, 'depth_ims_tf_table_*.npz'):\n",
    "        aligned_imgs_files.append(filename)  # collected all the depth_ims_tf_table files in one list\n",
    "# print(aligned_imgs_files)\n",
    "# if 'depth_ims_tf_table_05911.npz' in aligned_imgs_files:\n",
    "#     print(\"Yes\")\n",
    "for i in range(0,12):\n",
    "    aligned_imgs_data = [np.load(DATA + filename) for fname in aligned_imgs_files[500*i:500*(i+1)]]\n",
    "\n",
    "# aligned_imgs_data.close()\n",
    "# print(aligned_imgs_data[0].keys())\n",
    "    merged_aligned_imgs = []\n",
    "    for data in aligned_imgs_data:\n",
    "        merged_aligned_imgs.append(data['arr_0.npy'])\n",
    "    \n",
    "        del data\n",
    "    np.savez(DATA + f\"{i:04d}.npz\", merged_aligned_imgs)\n",
    "    #np.savez(DATA + 'NEW_Vamsi_final_merged_aligned_imgs'+i+'.npz', merged_aligned_imgs) #, **merged_aligned_imgs)\n",
    "    del merged_aligned_imgs\n",
    "# aligned_imgs_data1 = [np.load(DATA + filename) for fname in aligned_imgs_files[501:1001]]\n",
    "# merged_aligned_imgs1 = []\n",
    "# for data in aligned_imgs_data1:\n",
    "#     merged_aligned_imgs1.append(data['arr_0.npy'])\n",
    "#     #[merged_aligned_imgs.update({k: v}) for k, v in data.items()]\n",
    "#     #print(len(merged_aligned_imgs))\n",
    "#     del data\n",
    "# np.savez(DATA + 'NEW_Vamsi_final1_merged_aligned_imgs.npz', merged_aligned_imgs1) \n",
    "\n",
    "#print(np.shape(merged_aligned_imgs.values))\n",
    "        \n",
    "\n",
    "# first 100 files merge, followed by next 100 till 6700\n",
    "# then load one large file"
   ]
  },
  {
   "cell_type": "code",
   "execution_count": 3,
   "metadata": {},
   "outputs": [],
   "source": [
    "gripper_depths_files = []\n",
    "for filename in os.listdir(DATA):\n",
    "    if fnmatch.fnmatch(filename, 'hand_poses_*.npz'):\n",
    "        gripper_depths_files.append(filename)  # collected all the depth_ims_tf_table files in one list\n",
    "# print(gripper_depths_files)\n",
    "# if 'hand_poses_05911.npz' in gripper_depths_files:\n",
    "#     print(\"Yes\")\n",
    "for i in range(0,12):\n",
    "    gripper_depths_data = [np.load(DATA + filename) for fname in gripper_depths_files[500*i:500*(i+1)]]\n",
    "\n",
    "# gripper_depths_data.close()\n",
    "# print(gripper_depths_data[0].keys())\n",
    "    merged_gripper_depths = []\n",
    "    for data in gripper_depths_data:\n",
    "        merged_gripper_depths.append(data['arr_0.npy'])\n",
    "  \n",
    "        del data\n",
    "    np.savez(DATA + f\"merged_gripper_depths_{i:04d}.npz\", merged_gripper_depths)\n",
    "    \n",
    "    del merged_gripper_depths"
   ]
  },
  {
   "cell_type": "code",
   "execution_count": 2,
   "metadata": {},
   "outputs": [],
   "source": [
    "grasp_metrics_files = []\n",
    "for filename in os.listdir(DATA):\n",
    "    if fnmatch.fnmatch(filename, 'robust_ferrari_canny_*.npz'):\n",
    "        grasp_metrics_files.append(filename)  # collected all the depth_ims_tf_table files in one list\n",
    "# print(grasp_metrics_files)\n",
    "# if 'robust_ferrari_canny_05911.npz' in grasp_metrics_files:\n",
    "#     print(\"Yes\")\n",
    "for i in range(0,12):\n",
    "    grasp_metrics_data = [np.load(DATA + filename) for fname in grasp_metrics_files[500*i:500*(i+1)]]\n",
    "\n",
    "# grasp_metrics_data.close()\n",
    "# print(ggrasp_metrics_data[0].keys())\n",
    "    merged_grasp_metrics = []\n",
    "    for data in grasp_metrics_data:\n",
    "        merged_grasp_metrics.append(data['arr_0.npy'])\n",
    "  \n",
    "        del data\n",
    "    np.savez(DATA + f\"merged_grasp_metrics_{i:04d}.npz\", merged_grasp_metrics)\n",
    "    \n",
    "    del merged_grasp_metrics"
   ]
  },
  {
   "cell_type": "code",
   "execution_count": null,
   "metadata": {},
   "outputs": [],
   "source": []
  }
 ]
}