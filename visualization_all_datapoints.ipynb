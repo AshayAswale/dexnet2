#!/usr/bin/env python3
# -*- coding: utf-8 -*-
"""
Created on Mon May  3 19:22:22 2021

@author: mandar
"""

import numpy as np
import os
import matplotlib.pyplot as plt
arrays = {}
datapoint = '_00329.npz'                #Enter datapoint here (anywhere between _00000 and _06728)
for filename in os.listdir('/home/mandar/gqcnn_ws/src/gqcnn/data/training/dexnet_2.0/tensors'):
    if filename.endswith(datapoint):
        arrays[filename.replace(datapoint, '')] = np.load('/home/mandar/gqcnn_ws/src/gqcnn/data/training/dexnet_2.0/tensors/'+filename)
#Visualization
index = 1
features = {}
print('Index = ', index)
for array in arrays:
    f = arrays[array]
    feature = f['arr_0.npy']
    features[array] = feature
    # feature = features['depth_ims_tf']
    fig = plt.figure(figsize = (1000,100))
    rows = 6
    columns = 6
    if(len(feature.shape) > 2):
        for index in range (1,30):
            fig.add_subplot(rows,columns, index)
            plt.imshow(feature[index, :, :, :])
            

